{
 "cells": [
  {
   "cell_type": "code",
   "execution_count": null,
   "id": "forbidden-alignment",
   "metadata": {},
   "outputs": [],
   "source": [
    "# software engineering daily digest. a script to notify users of new job postings.\n",
    "\n",
    "from collections import defaultdict\n",
    "from bs4 import BeautifulSoup as bs\n",
    "import requests\n",
    "# from selenium import webdriver\n",
    "from twilio.rest import Client\n",
    "import pandas as pd\n",
    "from os import chdir\n",
    "from glob import glob\n",
    "\n",
    "# move to the path where CSV files are located\n",
    "path = '/Users/aravwatwani/Desktop/projects/swe-daily-digest/'\n",
    "chdir(path)\n",
    "file_pattern = \".csv\"\n",
    "list_of_files = [file for file in glob('*.csv'.format(file_pattern))]"
   ]
  },
  {
   "cell_type": "code",
   "execution_count": null,
   "id": "living-cambodia",
   "metadata": {},
   "outputs": [],
   "source": [
    "# prior data for checking if updates exist\n",
    "old_data = pd.read_csv('data.csv')"
   ]
  },
  {
   "cell_type": "code",
   "execution_count": null,
   "id": "universal-finder",
   "metadata": {},
   "outputs": [],
   "source": [
    "data = defaultdict(list)\n",
    "text_to_send = ''\n",
    "\n",
    "try:\n",
    "    url = 'https://github.com/pittcsc/Summer2022-Internships'\n",
    "    r = requests.get(url)\n",
    "    soup = bs(r.content, 'html.parser')\n",
    "    table = soup.find('table')\n",
    "    table_body = table.find('tbody')\n",
    "    rows = table_body.find_all('tr')\n",
    "\n",
    "    for row in rows:\n",
    "        cols = row.find_all('td')\n",
    "        cols = [ele.text.strip() for ele in cols]\n",
    "\n",
    "        if cols[0] not in data and cols[-1].lower() == 'closed':\n",
    "            continue\n",
    "        elif cols[0] not in data:\n",
    "            data[cols[0]].extend(cols[1:])\n",
    "        else:\n",
    "            data[cols[0]] = cols[1:]\n",
    "except:\n",
    "   text_to_send = '🚨 Failed on bs4 execution'\n",
    "\n",
    "\n",
    "data = pd.DataFrame(data).T\n",
    "data.columns = ['Location', 'Role']\n",
    "data.sort_index(inplace=True)\n",
    "data.index.name = 'Company'\n",
    "data"
   ]
  },
  {
   "cell_type": "code",
   "execution_count": null,
   "id": "involved-things",
   "metadata": {},
   "outputs": [],
   "source": [
    "new_addition = False\n",
    "# if len(data) > len(old_data):\n",
    "#     new_addition = True\n",
    "\n",
    "old_set = set([company for company in old_data['Company']])\n",
    "new_set = set(data.index)\n",
    "new_roles = list(old_set.symmetric_difference(new_set))\n",
    "new_roles\n",
    "\n",
    "# text_to_send = \"Hello from Arav's bot 🤖 \\n\\n\" \n",
    "# + 'Here are the latest software engineering internship openings for you!' \n",
    "# + '\\n'.join(disclosures_clean) \n",
    "# + '\\n\\nThis script used to generate this message runs every Monday-Friday at 8:08AM PST. Cool.'\n",
    "\n"
   ]
  },
  {
   "cell_type": "code",
   "execution_count": null,
   "id": "published-machinery",
   "metadata": {},
   "outputs": [],
   "source": [
    "data.to_csv('data.csv')"
   ]
  },
  {
   "cell_type": "code",
   "execution_count": null,
   "id": "technological-prefix",
   "metadata": {},
   "outputs": [],
   "source": []
  }
 ],
 "metadata": {
  "kernelspec": {
   "display_name": "Python 3",
   "language": "python",
   "name": "python3"
  },
  "language_info": {
   "codemirror_mode": {
    "name": "ipython",
    "version": 3
   },
   "file_extension": ".py",
   "mimetype": "text/x-python",
   "name": "python",
   "nbconvert_exporter": "python",
   "pygments_lexer": "ipython3",
   "version": "3.9.1"
  }
 },
 "nbformat": 4,
 "nbformat_minor": 5
}
